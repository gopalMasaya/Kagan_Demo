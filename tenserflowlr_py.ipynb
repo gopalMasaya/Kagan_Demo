{
  "nbformat": 4,
  "nbformat_minor": 0,
  "metadata": {
    "colab": {
      "name": "tenserflowlr.py",
      "provenance": [],
      "include_colab_link": true
    },
    "kernelspec": {
      "name": "python3",
      "display_name": "Python 3"
    },
    "accelerator": "GPU"
  },
  "cells": [
    {
      "cell_type": "markdown",
      "metadata": {
        "id": "view-in-github",
        "colab_type": "text"
      },
      "source": [
        "<a href=\"https://colab.research.google.com/github/gopalMasaya/TopDb/blob/gh-pages/tenserflowlr_py.ipynb\" target=\"_parent\"><img src=\"https://colab.research.google.com/assets/colab-badge.svg\" alt=\"Open In Colab\"/></a>"
      ]
    },
    {
      "cell_type": "code",
      "metadata": {
        "id": "j6SGHto0_Jl6",
        "colab_type": "code",
        "colab": {}
      },
      "source": [
        "print('py')"
      ],
      "execution_count": 0,
      "outputs": []
    },
    {
      "cell_type": "code",
      "metadata": {
        "id": "rMIL5Ns7_YgH",
        "colab_type": "code",
        "colab": {}
      },
      "source": [
        "import pandas as pd              # A beautiful library to help us work with data as tables\n",
        "import numpy as np               # So we can use number matrices. Both pandas and TensorFlow need it. \n",
        "import matplotlib.pyplot as plt  # Visualize the things\n",
        "import tensorflow as tf  \n",
        "\n"
      ],
      "execution_count": 0,
      "outputs": []
    },
    {
      "cell_type": "code",
      "metadata": {
        "id": "bjwiH5sBIaGc",
        "colab_type": "code",
        "outputId": "4b77d8b3-90af-403a-f5d7-3384cda309ab",
        "colab": {
          "base_uri": "https://localhost:8080/",
          "height": 347
        }
      },
      "source": [
        "dataframe = pd.read_csv(\"data.csv\") # Let's have Pandas load our dataset as a dataframe\n",
        "dataframe = dataframe.drop([\"index\", \"price\", \"sq_price\"], axis=1) # Remove columns we don't care about\n",
        "dataframe = pd.DataFrame(dataframe)\n",
        "dataframe = dataframe[:10] # We'll only use the first 10 rows of the dataset in this example\n",
        "dataframe # Let's have the notebook show us how the dataframe looks now"
      ],
      "execution_count": 4,
      "outputs": [
        {
          "output_type": "execute_result",
          "data": {
            "text/html": [
              "<div>\n",
              "<style scoped>\n",
              "    .dataframe tbody tr th:only-of-type {\n",
              "        vertical-align: middle;\n",
              "    }\n",
              "\n",
              "    .dataframe tbody tr th {\n",
              "        vertical-align: top;\n",
              "    }\n",
              "\n",
              "    .dataframe thead th {\n",
              "        text-align: right;\n",
              "    }\n",
              "</style>\n",
              "<table border=\"1\" class=\"dataframe\">\n",
              "  <thead>\n",
              "    <tr style=\"text-align: right;\">\n",
              "      <th></th>\n",
              "      <th>area</th>\n",
              "      <th>bathrooms</th>\n",
              "    </tr>\n",
              "  </thead>\n",
              "  <tbody>\n",
              "    <tr>\n",
              "      <th>0</th>\n",
              "      <td>2104.0</td>\n",
              "      <td>3.0</td>\n",
              "    </tr>\n",
              "    <tr>\n",
              "      <th>1</th>\n",
              "      <td>1600.0</td>\n",
              "      <td>3.0</td>\n",
              "    </tr>\n",
              "    <tr>\n",
              "      <th>2</th>\n",
              "      <td>2400.0</td>\n",
              "      <td>3.0</td>\n",
              "    </tr>\n",
              "    <tr>\n",
              "      <th>3</th>\n",
              "      <td>1416.0</td>\n",
              "      <td>2.0</td>\n",
              "    </tr>\n",
              "    <tr>\n",
              "      <th>4</th>\n",
              "      <td>3000.0</td>\n",
              "      <td>4.0</td>\n",
              "    </tr>\n",
              "    <tr>\n",
              "      <th>5</th>\n",
              "      <td>1985.0</td>\n",
              "      <td>4.0</td>\n",
              "    </tr>\n",
              "    <tr>\n",
              "      <th>6</th>\n",
              "      <td>1534.0</td>\n",
              "      <td>3.0</td>\n",
              "    </tr>\n",
              "    <tr>\n",
              "      <th>7</th>\n",
              "      <td>1427.0</td>\n",
              "      <td>3.0</td>\n",
              "    </tr>\n",
              "    <tr>\n",
              "      <th>8</th>\n",
              "      <td>1380.0</td>\n",
              "      <td>3.0</td>\n",
              "    </tr>\n",
              "    <tr>\n",
              "      <th>9</th>\n",
              "      <td>1494.0</td>\n",
              "      <td>3.0</td>\n",
              "    </tr>\n",
              "  </tbody>\n",
              "</table>\n",
              "</div>"
            ],
            "text/plain": [
              "     area  bathrooms\n",
              "0  2104.0        3.0\n",
              "1  1600.0        3.0\n",
              "2  2400.0        3.0\n",
              "3  1416.0        2.0\n",
              "4  3000.0        4.0\n",
              "5  1985.0        4.0\n",
              "6  1534.0        3.0\n",
              "7  1427.0        3.0\n",
              "8  1380.0        3.0\n",
              "9  1494.0        3.0"
            ]
          },
          "metadata": {
            "tags": []
          },
          "execution_count": 4
        }
      ]
    },
    {
      "cell_type": "code",
      "metadata": {
        "id": "4LWckFAOKGdB",
        "colab_type": "code",
        "colab": {}
      },
      "source": [
        "dataframe.loc[:, (\"y1\")]=  [1, 1, 1, 0, 0, 1, 0, 1, 1,1] \n"
      ],
      "execution_count": 0,
      "outputs": []
    },
    {
      "cell_type": "code",
      "metadata": {
        "id": "3XeVtw0OVh6B",
        "colab_type": "code",
        "colab": {}
      },
      "source": [
        "dataframe.loc[:, (\"y2\")] = dataframe[\"y1\"] == 0   "
      ],
      "execution_count": 0,
      "outputs": []
    },
    {
      "cell_type": "code",
      "metadata": {
        "id": "VWrO07FMWnRC",
        "colab_type": "code",
        "colab": {}
      },
      "source": [
        "dataframe.loc[:, (\"y2\")] = dataframe[\"y2\"].astype(int)"
      ],
      "execution_count": 0,
      "outputs": []
    },
    {
      "cell_type": "code",
      "metadata": {
        "id": "sfNtNIF6X6tJ",
        "colab_type": "code",
        "colab": {
          "base_uri": "https://localhost:8080/",
          "height": 103
        },
        "outputId": "570a4fc3-3e59-45fe-d9c8-109397de9460"
      },
      "source": [
        "inputX = dataframe.loc[:, ['area', 'bathrooms']].as_matrix()\n",
        "inputY = dataframe.loc[:, [\"y1\", \"y2\"]].as_matrix()"
      ],
      "execution_count": 8,
      "outputs": [
        {
          "output_type": "stream",
          "text": [
            "/usr/local/lib/python3.6/dist-packages/ipykernel_launcher.py:1: FutureWarning: Method .as_matrix will be removed in a future version. Use .values instead.\n",
            "  \"\"\"Entry point for launching an IPython kernel.\n",
            "/usr/local/lib/python3.6/dist-packages/ipykernel_launcher.py:2: FutureWarning: Method .as_matrix will be removed in a future version. Use .values instead.\n",
            "  \n"
          ],
          "name": "stderr"
        }
      ]
    },
    {
      "cell_type": "code",
      "metadata": {
        "id": "V1YE4EEEYeYx",
        "colab_type": "code",
        "colab": {
          "base_uri": "https://localhost:8080/",
          "height": 183
        },
        "outputId": "2df63b64-c052-4686-9128-2416a53ff09b"
      },
      "source": [
        "inputX"
      ],
      "execution_count": 9,
      "outputs": [
        {
          "output_type": "execute_result",
          "data": {
            "text/plain": [
              "array([[2.104e+03, 3.000e+00],\n",
              "       [1.600e+03, 3.000e+00],\n",
              "       [2.400e+03, 3.000e+00],\n",
              "       [1.416e+03, 2.000e+00],\n",
              "       [3.000e+03, 4.000e+00],\n",
              "       [1.985e+03, 4.000e+00],\n",
              "       [1.534e+03, 3.000e+00],\n",
              "       [1.427e+03, 3.000e+00],\n",
              "       [1.380e+03, 3.000e+00],\n",
              "       [1.494e+03, 3.000e+00]])"
            ]
          },
          "metadata": {
            "tags": []
          },
          "execution_count": 9
        }
      ]
    },
    {
      "cell_type": "code",
      "metadata": {
        "id": "k4_XqZhbYzSZ",
        "colab_type": "code",
        "colab": {
          "base_uri": "https://localhost:8080/",
          "height": 183
        },
        "outputId": "e2ca2caa-d507-42f0-87ea-24e1d34fe6c2"
      },
      "source": [
        "inputY"
      ],
      "execution_count": 10,
      "outputs": [
        {
          "output_type": "execute_result",
          "data": {
            "text/plain": [
              "array([[1, 0],\n",
              "       [1, 0],\n",
              "       [1, 0],\n",
              "       [0, 1],\n",
              "       [0, 1],\n",
              "       [1, 0],\n",
              "       [0, 1],\n",
              "       [1, 0],\n",
              "       [1, 0],\n",
              "       [1, 0]])"
            ]
          },
          "metadata": {
            "tags": []
          },
          "execution_count": 10
        }
      ]
    },
    {
      "cell_type": "code",
      "metadata": {
        "id": "NZMr_E3XpBDD",
        "colab_type": "code",
        "colab": {}
      },
      "source": [
        "# Parameters\n",
        "learning_rate = 0.000001\n",
        "training_epochs = 10000\n",
        "display_step = 50\n",
        "n_samples = inputY.size"
      ],
      "execution_count": 0,
      "outputs": []
    },
    {
      "cell_type": "code",
      "metadata": {
        "id": "6h6QC_YepGXe",
        "colab_type": "code",
        "colab": {}
      },
      "source": [
        "x = tf.placeholder(tf.float32, [None, 2])   # Okay TensorFlow, we'll feed you an array of examples. Each example will\n",
        "                                            # be an array of two float values (area, and number of bathrooms).\n",
        "                                            # \"None\" means we can feed you any number of examples\n",
        "                                            # Notice we haven't fed it the values yet\n",
        "            \n",
        "W = tf.Variable(tf.zeros([2, 2]))           # Maintain a 2 x 2 float matrix for the weights that we'll keep updating \n",
        "                                            # through the training process (make them all zero to begin with)\n",
        "    \n",
        "b = tf.Variable(tf.zeros([2]))              # Also maintain two bias values\n",
        "\n",
        "y_values = tf.add(tf.matmul(x, W), b)       # The first step in calculating the prediction would be to multiply\n",
        "                                            # the inputs matrix by the weights matrix then add the biases\n",
        "    \n",
        "y = tf.nn.softmax(y_values)                 # Then we use softmax as an \"activation function\" that translates the\n",
        "                                            # numbers outputted by the previous layer into probability form\n",
        "    \n",
        "y_ = tf.placeholder(tf.float32, [None,2])   # For training purposes, we'll also feed you a matrix of labels"
      ],
      "execution_count": 0,
      "outputs": []
    },
    {
      "cell_type": "code",
      "metadata": {
        "id": "iSQlCiCLpH0Q",
        "colab_type": "code",
        "colab": {
          "base_uri": "https://localhost:8080/",
          "height": 87
        },
        "outputId": "82746fee-1726-46f3-9f1a-f28fce9414bf"
      },
      "source": [
        "cost = tf.reduce_sum(tf.pow(y_ - y, 2))/(2*n_samples)\n",
        "# Gradient descent\n",
        "optimizer = tf.train.GradientDescentOptimizer(learning_rate).minimize(cost)"
      ],
      "execution_count": 13,
      "outputs": [
        {
          "output_type": "stream",
          "text": [
            "WARNING:tensorflow:From /usr/local/lib/python3.6/dist-packages/tensorflow/python/ops/math_grad.py:1205: add_dispatch_support.<locals>.wrapper (from tensorflow.python.ops.array_ops) is deprecated and will be removed in a future version.\n",
            "Instructions for updating:\n",
            "Use tf.where in 2.0, which has the same broadcast rule as np.where\n"
          ],
          "name": "stdout"
        }
      ]
    },
    {
      "cell_type": "code",
      "metadata": {
        "id": "kd8iqTLcuo7L",
        "colab_type": "code",
        "colab": {}
      },
      "source": [
        "init = tf.global_variables_initializer()\n",
        "sess = tf.Session()\n",
        "sess.run(init)"
      ],
      "execution_count": 0,
      "outputs": []
    },
    {
      "cell_type": "code",
      "metadata": {
        "id": "NJy66kzovL70",
        "colab_type": "code",
        "colab": {
          "base_uri": "https://localhost:8080/",
          "height": 83
        },
        "outputId": "7b6ab824-6fb2-47a5-d5de-9c3bb91b7f3e"
      },
      "source": [
        "for i in range(training_epochs):  \n",
        "    sess.run(optimizer, feed_dict={x: inputX, y_: inputY}) # Take a gradient descent step using our inputs and labels\n",
        "\n",
        "    # That's all! The rest of the cell just outputs debug messages. \n",
        "    # Display logs per epoch step\n",
        "    if (i) % display_step == 0:\n",
        "        cc = sess.run(cost, feed_dict={x: inputX, y_:inputY})\n",
        "     # print(\"Training step:\")    \n",
        "print (\"Training step:\", '%04d' % (i), \"cost=\", \"{:.9f}\".format(cc))\n",
        "training_cost = sess.run(cost, feed_dict={x: inputX, y_: inputY})\n",
        "print (\"Training cost=\", training_cost, \"W=\", sess.run(W), \"b=\", sess.run(b), '\\n')"
      ],
      "execution_count": 48,
      "outputs": [
        {
          "output_type": "stream",
          "text": [
            "Training step: 9999 cost= 0.109508708\n",
            "Training cost= 0.10950863 W= [[ 0.00021307 -0.00021307]\n",
            " [ 0.00058554 -0.00058554]] b= [ 0.0001357 -0.0001357] \n",
            "\n"
          ],
          "name": "stdout"
        }
      ]
    },
    {
      "cell_type": "code",
      "metadata": {
        "id": "sNC9Oncw2SKH",
        "colab_type": "code",
        "colab": {
          "base_uri": "https://localhost:8080/",
          "height": 183
        },
        "outputId": "a75d4ece-9b59-471c-eff9-7ba3d03f81b4"
      },
      "source": [
        "sess.run(y, feed_dict={x: inputX })"
      ],
      "execution_count": 49,
      "outputs": [
        {
          "output_type": "execute_result",
          "data": {
            "text/plain": [
              "array([[0.7110276 , 0.28897238],\n",
              "       [0.6649888 , 0.33501118],\n",
              "       [0.7362402 , 0.26375985],\n",
              "       [0.6470337 , 0.3529663 ],\n",
              "       [0.7830232 , 0.21697682],\n",
              "       [0.7007435 , 0.2992565 ],\n",
              "       [0.6586943 , 0.34130564],\n",
              "       [0.64837056, 0.35162944],\n",
              "       [0.6437909 , 0.35620913],\n",
              "       [0.654852  , 0.34514806]], dtype=float32)"
            ]
          },
          "metadata": {
            "tags": []
          },
          "execution_count": 49
        }
      ]
    }
  ]
}